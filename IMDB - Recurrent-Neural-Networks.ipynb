{
 "cells": [
  {
   "cell_type": "markdown",
   "id": "8554b84e",
   "metadata": {},
   "source": [
    "- To load the IMDB dataset using TensorFlow, you can use the tf.keras.datasets.imdb.load_data function. This dataset consists of 25,000 movie reviews from IMDB, labeled by sentiment (positive/negative). Use as below:\n"
   ]
  },
  {
   "cell_type": "code",
   "execution_count": 1,
   "id": "4c9393d2",
   "metadata": {},
   "outputs": [],
   "source": [
    "import pandas as pd\n",
    "import numpy as np\n",
    "import matplotlib.pyplot as plt\n",
    "import seaborn as sns\n",
    "import warnings\n",
    "warnings.filterwarnings('ignore')"
   ]
  },
  {
   "cell_type": "code",
   "execution_count": 2,
   "id": "c0ef13a2",
   "metadata": {},
   "outputs": [
    {
     "name": "stdout",
     "output_type": "stream",
     "text": [
      "(25000,) (25000,)\n"
     ]
    }
   ],
   "source": [
    "import tensorflow as tf\n",
    "imdb = tf.keras.datasets.imdb\n",
    "(train_data, train_labels), (test_data, test_labels) = imdb.load_data(num_words=10000)\n",
    "\n",
    "print(train_data.shape, test_data.shape)"
   ]
  },
  {
   "cell_type": "code",
   "execution_count": 3,
   "id": "5e7ae5d4",
   "metadata": {},
   "outputs": [
    {
     "name": "stdout",
     "output_type": "stream",
     "text": [
      "<class 'numpy.ndarray'>\n",
      "train- test\n",
      "   1 -    1\n",
      "  14 -  591\n",
      "  22 -  202\n",
      "  16 -   14\n",
      "  43 -   31\n",
      " 530 -    6\n",
      " 973 -  717\n",
      "1622 -   10\n",
      "1385 -   10\n",
      "  65 -    2\n",
      " 458 -    2\n",
      "4468 -    5\n",
      "  66 -    4\n",
      "3941 -  360\n",
      "   4 -    7\n",
      " 173 -    4\n",
      "  36 -  177\n",
      " 256 - 5760\n",
      "   5 -  394\n",
      "  25 -  354\n",
      " 100 -    4\n",
      "  43 -  123\n",
      " 838 -    9\n",
      " 112 - 1035\n",
      "  50 - 1035\n",
      " 670 - 1035\n",
      "   2 -   10\n",
      "   9 -   10\n",
      "  35 -   13\n",
      " 480 -   92\n",
      " 284 -  124\n",
      "   5 -   89\n",
      " 150 -  488\n",
      "   4 - 7944\n",
      " 172 -  100\n",
      " 112 -   28\n",
      " 167 - 1668\n",
      "   2 -   14\n",
      " 336 -   31\n",
      " 385 -   23\n",
      "  39 -   27\n",
      "   4 - 7479\n",
      " 172 -   29\n",
      "4536 -  220\n",
      "1111 -  468\n",
      "  17 -    8\n",
      " 546 -  124\n",
      "  38 -   14\n",
      "  13 -  286\n",
      " 447 -  170\n",
      "   4 -    8\n",
      " 192 -  157\n",
      "  50 -   46\n",
      "  16 -    5\n",
      "   6 -   27\n",
      " 147 -  239\n",
      "2025 -   16\n",
      "  19 -  179\n",
      "  14 -    2\n",
      "  22 -   38\n",
      "   4 -   32\n",
      "1920 -   25\n",
      "4613 - 7944\n",
      " 469 -  451\n",
      "   4 -  202\n",
      "  22 -   14\n",
      "  71 -    6\n",
      "  87 -  717\n"
     ]
    }
   ],
   "source": [
    "print(type(train_data))\n",
    "print('train- test')\n",
    "for x in zip(train_data[0], test_data[0]):\n",
    "    print(str(x[0]).rjust(4),\"-\",str(x[1]).rjust(4))"
   ]
  },
  {
   "cell_type": "code",
   "execution_count": 4,
   "id": "6328034e",
   "metadata": {},
   "outputs": [
    {
     "data": {
      "text/plain": [
       "array([   1, 9995,    2,    7, 2208, 7335, 3135, 4173, 3783,  509, 1683,\n",
       "       4702,    2,    2,    6,  201,    7, 6415,  687,    2,    2,    7,\n",
       "       6387,  548,  139, 7583,  295,   34, 4485, 5302,    2,    2,    2,\n",
       "          7,    2,    2,  146,   24, 1017, 2282,  133,   21,    4, 1591,\n",
       "       3113,  786,    2,   16,  125,    4,    2, 9790, 2039,  137,  267,\n",
       "          2,    5,    2,  120, 2024,  980,    2, 1248, 5666,  727, 1405,\n",
       "       6879, 1060, 6442,   18,    2, 1461,    2, 1883,  445,  109, 5369,\n",
       "       3696,   33,  236,  786, 5580, 7994,    8,    2,    2,  103,    2,\n",
       "         98,   11,    2, 1461,   24,   66,  351, 1461,  165,  116,   17,\n",
       "       2545,   18, 6717, 8694, 5514,  980, 2545,  165,  734,   18, 2311,\n",
       "         52,   84,  157,   18, 7232,   11,  661,    8,  607, 3531,  223,\n",
       "       1066,  445, 9236,  996,    8, 2898, 4931,    8, 5526, 8316, 7880,\n",
       "        154,  378,  459,   18, 6942,  632,    5,   79, 2024,   18,   68,\n",
       "       4918,  813, 2456,    2,   17,  840, 4807, 3854,   23,  136,  159,\n",
       "       5770,  852, 1698,  632, 7708, 7993, 1003, 1372, 5747,    2,    7,\n",
       "       5840, 5408,   11, 7200,  120, 4682,    7,    2, 3368, 2103,    8,\n",
       "       1140,    2,  880, 1692,    7,   68,  205, 3565, 5903,   21, 3204,\n",
       "       1372,    2,    2, 1098,  125,  128, 2429,   21, 9000,    2,  632,\n",
       "          2,  245,   39, 3526,    5, 9386, 2690,    6, 4951,    7,    2,\n",
       "        496,   90,  103,  316,   47,  348,   56,    2,  483,    2, 2865,\n",
       "         56,    6, 9739,  445, 9236, 2568, 2464,    8,  632,   29,   57,\n",
       "       1207, 1085,   17,    6, 3842,  632, 3055,    8,  516, 5765,    2,\n",
       "         88,  240,  128,   74,   15, 7906,  700, 2143,  109,  166,  642,\n",
       "          2,    5, 6358,  795, 7771, 6474,    2,   11, 1526, 4041,    2,\n",
       "          2,    2,    2,    2,   31,  160,  143,    6,  201,    7, 3404,\n",
       "          5,   85, 1748,    2,   15,   62,  516,    6, 2691, 6945,  132,\n",
       "          2, 4193,    7, 1056, 6756, 4262,   19,  164,   21,    2,    2,\n",
       "       1141,  281,    5,    4, 4461,    7, 5681,    2,    5, 1175,    2,\n",
       "       2628, 7232,  772,  447, 2066,  588,   17, 8508,   18, 5580,    2,\n",
       "         10,   10,   13,  100,  140,   23,   21,   14,    9,   43,    2,\n",
       "         48,  335,  120,    4,  559,    7, 3917,    5,   24,  581,   11,\n",
       "       9484, 3231,  225,  242,  164,  133,   18,   25,    2,  195,   45,\n",
       "         24,   99,  230,  125,    7, 2291,   18, 3783,  102,   38,    2,\n",
       "         32,  207,  398,   48,   25,  191,   79,  195,    7,    4,  512])"
      ]
     },
     "execution_count": 4,
     "metadata": {},
     "output_type": "execute_result"
    }
   ],
   "source": [
    "'''\n",
    "numpy.apply_along_axis(func1d, axis, arr, *args, **kwargs)\n",
    "\n",
    "func1dfunction (M,) -> (Nj…)\n",
    "    This function should accept 1-D arrays. It is applied to 1-D slices of arr along the specified axis.\n",
    "axisinteger\n",
    "    Axis along which arr is sliced.\n",
    "arrndarray (Ni…, M, Nk…)\n",
    "    Input array.\n",
    "argsany\n",
    "    Additional arguments to func1d.\n",
    "kwargsany\n",
    "    Additional named arguments to func1d.\n",
    "'''\n",
    "np.apply_along_axis(np.max, axis=0, arr=train_data)"
   ]
  },
  {
   "cell_type": "code",
   "execution_count": 5,
   "id": "cee56fb8",
   "metadata": {},
   "outputs": [
    {
     "data": {
      "text/plain": [
       "(5967841,)"
      ]
     },
     "execution_count": 5,
     "metadata": {},
     "output_type": "execute_result"
    }
   ],
   "source": [
    "#convert the array to a 1d array containing all the word repetition counts\n",
    "train_data_1d = np.concatenate([np.array(sublist) for sublist in train_data])\n",
    "train_data_1d.shape"
   ]
  },
  {
   "cell_type": "code",
   "execution_count": 6,
   "id": "088e171a",
   "metadata": {},
   "outputs": [
    {
     "data": {
      "text/plain": [
       "array([9999, 9999, 9999, ..., 9683, 9683, 9683])"
      ]
     },
     "execution_count": 6,
     "metadata": {},
     "output_type": "execute_result"
    }
   ],
   "source": [
    "#Load the IMDB dataset, keeping only the top 10,000 most frequently occurring words.\n",
    "train_data_1d=np.sort(train_data_1d)[::-1]\n",
    "train_data_1d[:10000]"
   ]
  },
  {
   "cell_type": "code",
   "execution_count": 7,
   "id": "a517c802",
   "metadata": {},
   "outputs": [],
   "source": [
    "from keras.preprocessing.sequence import pad_sequences"
   ]
  },
  {
   "cell_type": "code",
   "execution_count": 8,
   "id": "6d4a5aff",
   "metadata": {},
   "outputs": [
    {
     "name": "stdout",
     "output_type": "stream",
     "text": [
      "[0 1] [12500 12500]\n"
     ]
    }
   ],
   "source": [
    "#Find how many unique values are in target data, with counts\n",
    "unique, counts = np.unique(train_labels, return_counts=True)\n",
    "print(unique, counts)"
   ]
  },
  {
   "cell_type": "code",
   "execution_count": 9,
   "id": "ac9d9e0a",
   "metadata": {},
   "outputs": [
    {
     "name": "stdout",
     "output_type": "stream",
     "text": [
      "[0 1] {0: 12500, 1: 12500}\n"
     ]
    }
   ],
   "source": [
    "unique, counts = np.unique(test_labels, return_counts=True)\n",
    "print(unique, dict(zip(unique,counts)))"
   ]
  },
  {
   "cell_type": "markdown",
   "id": "4832607b",
   "metadata": {},
   "source": [
    "## Check the distribution of label data"
   ]
  },
  {
   "cell_type": "code",
   "execution_count": 22,
   "id": "4dc4c72d",
   "metadata": {},
   "outputs": [
    {
     "data": {
      "text/plain": [
       "Text(0.5, 1.0, 'Test Data')"
      ]
     },
     "execution_count": 22,
     "metadata": {},
     "output_type": "execute_result"
    },
    {
     "data": {
      "image/png": "[encoded data removed]",
      "text/plain": [
       "<Figure size 300x300 with 1 Axes>"
      ]
     },
     "metadata": {},
     "output_type": "display_data"
    }
   ],
   "source": [
    "plt.figure(figsize=(3,3))\n",
    "sns.countplot(data=pd.DataFrame(test_labels), x=0)\n",
    "plt.xlabel('Classes')\n",
    "plt.ylabel('Frequency')\n",
    "plt.title('Test Data')"
   ]
  },
  {
   "cell_type": "code",
   "execution_count": 11,
   "id": "5c999123",
   "metadata": {},
   "outputs": [
    {
     "data": {
      "text/plain": [
       "Text(0.5, 1.0, 'Test Data')"
      ]
     },
     "execution_count": 11,
     "metadata": {},
     "output_type": "execute_result"
    },
    {
     "data": {
      "image/png": "[encoded data removed]",
      "text/plain": [
       "<Figure size 300x300 with 1 Axes>"
      ]
     },
     "metadata": {},
     "output_type": "display_data"
    }
   ],
   "source": [
    "plt.figure(figsize=(3,3))\n",
    "sns.countplot(data=pd.DataFrame(train_labels), x=0)\n",
    "plt.xlabel('Classes')\n",
    "plt.ylabel('Frequency')\n",
    "plt.title('Test Data')"
   ]
  },
  {
   "cell_type": "code",
   "execution_count": 12,
   "id": "b19adde7",
   "metadata": {},
   "outputs": [
    {
     "name": "stdout",
     "output_type": "stream",
     "text": [
      "min:  11 max:  2494\n",
      "min:  7 max:  2315\n"
     ]
    }
   ],
   "source": [
    "review_len_train = []\n",
    "review_len_test = []\n",
    "for i,j in zip(train_data,test_data):\n",
    "    review_len_train.append(len(i))\n",
    "    review_len_test.append(len(j))\n",
    "print(\"min: \", min(review_len_train), \"max: \", max(review_len_train))\n",
    "print(\"min: \", min(review_len_test), \"max: \", max(review_len_test))"
   ]
  },
  {
   "cell_type": "code",
   "execution_count": 13,
   "id": "0978d954",
   "metadata": {},
   "outputs": [
    {
     "data": {
      "image/png": "[encoded data removed]",
      "text/plain": [
       "<Figure size 600x300 with 1 Axes>"
      ]
     },
     "metadata": {},
     "output_type": "display_data"
    }
   ],
   "source": [
    "plt.figure(figsize=(6,3))\n",
    "sns.distplot(review_len_train,hist_kws={\"alpha\":0.3});\n",
    "sns.distplot(review_len_test,hist_kws={\"alpha\":0.3});\n"
   ]
  },
  {
   "cell_type": "code",
   "execution_count": 14,
   "id": "f78e891f",
   "metadata": {},
   "outputs": [
    {
     "name": "stdout",
     "output_type": "stream",
     "text": [
      "<class 'dict'>\n"
     ]
    }
   ],
   "source": [
    "word_index = imdb.get_word_index()\n",
    "print(type(word_index))"
   ]
  },
  {
   "cell_type": "code",
   "execution_count": 15,
   "id": "c058d09f",
   "metadata": {},
   "outputs": [
    {
     "name": "stdout",
     "output_type": "stream",
     "text": [
      "fawn          34701\n",
      "tsukino       52006\n",
      "nunnery       52007\n",
      "sonja         16816\n",
      "vani          63951\n"
     ]
    }
   ],
   "source": [
    "cnt=0\n",
    "for x in word_index:\n",
    "    print(x.ljust(10),str(word_index[x]).rjust(8))\n",
    "    if cnt>3: break \n",
    "    else: cnt+=1"
   ]
  },
  {
   "cell_type": "code",
   "execution_count": 16,
   "id": "e0a05ac7",
   "metadata": {},
   "outputs": [
    {
     "name": "stdout",
     "output_type": "stream",
     "text": [
      "the\n"
     ]
    }
   ],
   "source": [
    "for keys,values in word_index.items():\n",
    "    if values == 1:\n",
    "        print(keys)"
   ]
  },
  {
   "cell_type": "code",
   "execution_count": 17,
   "id": "8a94f925",
   "metadata": {},
   "outputs": [
    {
     "name": "stdout",
     "output_type": "stream",
     "text": [
      "['fawn', 'tsukino', 'nunnery', 'sonja', 'vani']\n"
     ]
    },
    {
     "data": {
      "text/plain": [
       "[34701, 52006, 52007, 16816, 63951]"
      ]
     },
     "execution_count": 17,
     "metadata": {},
     "output_type": "execute_result"
    }
   ],
   "source": [
    "#create 2 lists for the key value pairs\n",
    "decode_words=list(word_index.keys())\n",
    "decode_words_pos=list(word_index.values())\n",
    "print(decode_words[:5])\n",
    "decode_words_pos[:5]\n"
   ]
  },
  {
   "cell_type": "code",
   "execution_count": 86,
   "id": "9b6c3e30",
   "metadata": {},
   "outputs": [
    {
     "name": "stdout",
     "output_type": "stream",
     "text": [
      "! this film was just brilliant casting location scenery story direction everyone's really suited ! part they played and you could just imagine being there robert ! is an amazing actor and now ! same being director ! father came from ! same scottish island as myself so i loved ! fact there was a real connection with this film ! witty remarks throughout ! film were great it was just brilliant so much that i bought ! film as soon as it was released for ! and would recommend it to everyone to watch and ! fly fishing was amazing really cried at ! end it was so sad and you know what they say if you cry at a film it must have been good and this definitely was also ! to ! two little boy's that played ! ! of norman and paul they were just brilliant children are often left out of ! ! list i think because ! stars that play them all grown up are such a big profile for ! whole film but these children are amazing and should be praised for what they have done don't you think ! whole story was so lovely because it was true and was someone's life after all that was shared with us all \n"
     ]
    }
   ],
   "source": [
    "def f_decode(arr, k):\n",
    "    output=''\n",
    "    for x in arr[k]:\n",
    "        y=x-3 if x-3>1 else 0\n",
    "        #output+= (decode_words[decode_words_pos.index(y)], end=' ') if y>0 else ('!', end =' ') \n",
    "        output+= (decode_words[decode_words_pos.index(y)] if y>0 else '!') +' '\n",
    "    return output\n",
    "print(f_decode(train_data,0))\n"
   ]
  },
  {
   "cell_type": "code",
   "execution_count": 87,
   "id": "bf74c43a",
   "metadata": {},
   "outputs": [
    {
     "data": {
      "text/plain": [
       "\"! this film was just brilliant casting location scenery story direction everyone's really suited the part they played and you could just imagine being there robert ! is an amazing actor and now the same being director ! father came from the same scottish island as myself so i loved the fact there was a real connection with this film the witty remarks throughout the film were great it was just brilliant so much that i bought the film as soon as it was released for ! and would recommend it to everyone to watch and the fly fishing was amazing really cried at the end it was so sad and you know what they say if you cry at a film it must have been good and this definitely was also ! to the two little boy's that played the ! of norman and paul they were just brilliant children are often left out of the ! list i think because the stars that play them all grown up are such a big profile for the whole film but these children are amazing and should be praised for what they have done don't you think the whole story was so lovely because it was true and was someone's life after all that was shared with us all\""
      ]
     },
     "execution_count": 87,
     "metadata": {},
     "output_type": "execute_result"
    }
   ],
   "source": [
    "##Alternatively\n",
    "reverse_index = dict([(value,key) for (key,value) in word_index.items()])\n",
    "def whatItSay(index=0, arr=train_data):\n",
    "    decode_review = \" \".join([reverse_index.get(i-3, \"!\") for i in arr[index]])\n",
    "    return decode_review\n",
    "\n",
    "decoded_review = whatItSay()\n",
    "decoded_review"
   ]
  },
  {
   "cell_type": "code",
   "execution_count": 67,
   "id": "381efc42",
   "metadata": {},
   "outputs": [
    {
     "name": "stdout",
     "output_type": "stream",
     "text": [
      "! the ! ! at storytelling the traditional sort many years after the event i can still see in my ! eye an elderly lady my friend's mother retelling the battle of ! she makes the characters come alive her passion is that of an eye witness one to the events on the ! heath a mile or so from where she lives br br of course it happened many years before she was born but you wouldn't guess from the way she tells it the same story is told in bars the length and ! of scotland as i discussed it with a friend one night in ! a local cut in to give his version the discussion continued to closing time br br stories passed down like this become part of our being who doesn't remember the stories our parents told us when we were children they become our invisible world and as we grow older they maybe still serve as inspiration or as an emotional ! fact and fiction blend with ! role models warning stories ! magic and mystery br br my name is ! like my grandfather and his grandfather before him our protagonist introduces himself to us and also introduces the story that stretches back through generations it produces stories within stories stories that evoke the ! wonder of scotland its rugged mountains ! in ! the stuff of legend yet ! is ! in reality this is what gives it its special charm it has a rough beauty and authenticity ! with some of the finest ! singing you will ever hear br br ! ! visits his grandfather in hospital shortly before his death he burns with frustration part of him ! to be in the twenty first century to hang out in ! but he is raised on the western ! among a ! speaking community br br yet there is a deeper conflict within him he ! to know the truth the truth behind his ! ancient stories where does fiction end and he wants to know the truth behind the death of his parents br br he is pulled to make a last ! journey to the ! of one of ! most ! mountains can the truth be told or is it all in stories br br in this story about stories we ! bloody battles ! lovers the ! of old and the sometimes more ! ! of accepted truth in doing so we each connect with ! as he lives the story of his own life br br ! the ! ! is probably the most honest ! and genuinely beautiful film of scotland ever made like ! i got slightly annoyed with the ! of hanging stories on more stories but also like ! i ! this once i saw the ! picture ' forget the box office ! of braveheart and its like you might even ! the ! famous ! of the wicker man to see a film that is true to scotland this one is probably unique if you maybe ! on it deeply enough you might even re ! the power of storytelling and the age old question of whether there are some truths that cannot be told but only experienced\n"
     ]
    }
   ],
   "source": [
    "print(whatItSay(3))"
   ]
  },
  {
   "cell_type": "markdown",
   "id": "4f1966a7",
   "metadata": {},
   "source": [
    "## Preprocessing of data"
   ]
  },
  {
   "cell_type": "code",
   "execution_count": 74,
   "id": "807dcdeb",
   "metadata": {},
   "outputs": [
    {
     "name": "stdout",
     "output_type": "stream",
     "text": [
      "(25000,) 25000\n"
     ]
    }
   ],
   "source": [
    "#Load the IMDB dataset, keeping only the top 10,000 most frequently occurring words\n",
    "word_size = 10000\n",
    "(X_train,Y_train),(X_test,Y_test) = imdb.load_data(num_words=word_size)\n",
    "print(X_train.shape, len(Y_test))"
   ]
  },
  {
   "cell_type": "code",
   "execution_count": 76,
   "id": "4447ccf8",
   "metadata": {},
   "outputs": [
    {
     "name": "stdout",
     "output_type": "stream",
     "text": [
      "[1, 14, 22, 16, 43, 530, 973, 1622, 1385, 65, 458, 4468, 66, 3941, 4, 173, 36, 256, 5, 25, 100, 43, 838, 112, 50, 670, 2, 9, 35, 480, 284, 5, 150, 4, 172, 112, 167, 2, 336, 385, 39, 4, 172, 4536, 1111, 17, 546, 38, 13, 447, 4, 192, 50, 16, 6, 147, 2025, 19, 14, 22, 4, 1920, 4613, 469, 4, 22, 71, 87, 12, 16, 43, 530, 38, 76, 15, 13, 1247, 4, 22, 17, 515, 17, 12, 16, 626, 18, 2, 5, 62, 386, 12, 8, 316, 8, 106, 5, 4, 2223, 5244, 16, 480, 66, 3785, 33, 4, 130, 12, 16, 38, 619, 5, 25, 124, 51, 36, 135, 48, 25, 1415, 33, 6, 22, 12, 215, 28, 77, 52, 5, 14, 407, 16, 82, 2, 8, 4, 107, 117, 5952, 15, 256, 4, 2, 7, 3766, 5, 723, 36, 71, 43, 530, 476, 26, 400, 317, 46, 7, 4, 2, 1029, 13, 104, 88, 4, 381, 15, 297, 98, 32, 2071, 56, 26, 141, 6, 194, 7486, 18, 4, 226, 22, 21, 134, 476, 26, 480, 5, 144, 30, 5535, 18, 51, 36, 28, 224, 92, 25, 104, 4, 226, 65, 16, 38, 1334, 88, 12, 16, 283, 5, 16, 4472, 113, 103, 32, 15, 16, 5345, 19, 178, 32]\n"
     ]
    }
   ],
   "source": [
    "print(X_train[0],sep=' ')"
   ]
  },
  {
   "cell_type": "code",
   "execution_count": 77,
   "id": "d48e2f3b",
   "metadata": {},
   "outputs": [
    {
     "name": "stdout",
     "output_type": "stream",
     "text": [
      "(25000, 130) (25000, 130)\n"
     ]
    }
   ],
   "source": [
    "#Pad the sequences so that they all have the same length\n",
    "pad_length=130\n",
    "X_train = pad_sequences(X_train, maxlen=pad_length)\n",
    "X_test  = pad_sequences(X_test, maxlen=pad_length)\n",
    "\n",
    "print(X_train.shape, X_test.shape)"
   ]
  },
  {
   "cell_type": "code",
   "execution_count": 78,
   "id": "0d924d98",
   "metadata": {},
   "outputs": [
    {
     "data": {
      "text/plain": [
       "array([  62,  386,   12,    8,  316,    8,  106,    5,    4, 2223, 5244,\n",
       "         16,  480,   66, 3785,   33,    4,  130,   12,   16,   38,  619,\n",
       "          5,   25,  124,   51,   36,  135,   48,   25, 1415,   33,    6,\n",
       "         22,   12,  215,   28,   77,   52,    5,   14,  407,   16,   82,\n",
       "          2,    8,    4,  107,  117, 5952,   15,  256,    4,    2,    7,\n",
       "       3766,    5,  723,   36,   71,   43,  530,  476,   26,  400,  317,\n",
       "         46,    7,    4,    2, 1029,   13,  104,   88,    4,  381,   15,\n",
       "        297,   98,   32, 2071,   56,   26,  141,    6,  194, 7486,   18,\n",
       "          4,  226,   22,   21,  134,  476,   26,  480,    5,  144,   30,\n",
       "       5535,   18,   51,   36,   28,  224,   92,   25,  104,    4,  226,\n",
       "         65,   16,   38, 1334,   88,   12,   16,  283,    5,   16, 4472,\n",
       "        113,  103,   32,   15,   16, 5345,   19,  178,   32])"
      ]
     },
     "execution_count": 78,
     "metadata": {},
     "output_type": "execute_result"
    }
   ],
   "source": [
    "X_train[0]"
   ]
  },
  {
   "cell_type": "code",
   "execution_count": 80,
   "id": "b6bc45b2",
   "metadata": {},
   "outputs": [
    {
     "name": "stdout",
     "output_type": "stream",
     "text": [
      "130, 130, 130, 130, 130, 130, 130, 130, 130, 130, "
     ]
    }
   ],
   "source": [
    "for i in X_train[0:10]:\n",
    "    print(len(i), end=', ')"
   ]
  },
  {
   "cell_type": "code",
   "execution_count": 91,
   "id": "1603e12c",
   "metadata": {},
   "outputs": [
    {
     "data": {
      "text/plain": [
       "\"! ! ! ! ! ! ! ! ! ! ! ! ! ! ! ! ! ! ! ! ! ! ! ! ! ! ! ! ! ! ! ! ! ! ! ! ! ! ! ! ! ! ! ! ! ! ! ! ! ! ! ! ! ! ! ! ! ! ! ! ! ! ! ! ! ! ! ! ! ! ! ! ! ! ! ! ! ! ! ! ! ! ! ! ! ! ! ! begins better than it ends funny that ! russian submarine crew ! all other actors it's like those scenes where documentary shots br br spoiler part ! message ! was contrary to ! whole story it just does not ! br br \""
      ]
     },
     "execution_count": 91,
     "metadata": {},
     "output_type": "execute_result"
    }
   ],
   "source": [
    "f_decode(X_train,5)"
   ]
  },
  {
   "cell_type": "code",
   "execution_count": 92,
   "id": "7f280dfd",
   "metadata": {},
   "outputs": [
    {
     "data": {
      "text/plain": [
       "\"! ! ! ! ! ! ! ! ! ! ! ! ! ! ! ! ! ! ! ! ! ! ! ! ! ! ! ! ! ! ! ! ! ! ! ! ! ! ! ! ! ! ! ! ! ! ! ! ! ! ! ! ! ! ! ! ! ! ! ! ! ! ! ! ! ! ! ! ! ! ! ! ! ! ! ! ! ! ! ! ! ! ! ! ! ! ! ! begins better than it ends funny that the russian submarine crew ! all other actors it's like those scenes where documentary shots br br spoiler part the message ! was contrary to the whole story it just does not ! br br\""
      ]
     },
     "execution_count": 92,
     "metadata": {},
     "output_type": "execute_result"
    }
   ],
   "source": [
    "whatItSay(5,X_train)"
   ]
  },
  {
   "cell_type": "markdown",
   "id": "fc3b394e",
   "metadata": {},
   "source": [
    "## RNN model"
   ]
  },
  {
   "cell_type": "code",
   "execution_count": 95,
   "id": "1a6fbae6",
   "metadata": {},
   "outputs": [],
   "source": [
    "from scipy import stats\n",
    "from keras.datasets import imdb\n",
    "from keras.preprocessing.sequence import pad_sequences \n",
    "from keras.models import Sequential\n",
    "from keras.layers import SimpleRNN,Dense,Activation\n",
    "from keras.layers import Embedding"
   ]
  },
  {
   "cell_type": "code",
   "execution_count": 98,
   "id": "8f0fd789",
   "metadata": {},
   "outputs": [
    {
     "name": "stdout",
     "output_type": "stream",
     "text": [
      "Model: \"sequential_2\"\n",
      "_________________________________________________________________\n",
      " Layer (type)                Output Shape              Param #   \n",
      "=================================================================\n",
      " embedding_2 (Embedding)     (None, 130, 32)           320000    \n",
      "                                                                 \n",
      " simple_rnn (SimpleRNN)      (None, 16)                784       \n",
      "                                                                 \n",
      " dense (Dense)               (None, 1)                 17        \n",
      "                                                                 \n",
      " activation (Activation)     (None, 1)                 0         \n",
      "                                                                 \n",
      "=================================================================\n",
      "Total params: 320801 (1.22 MB)\n",
      "Trainable params: 320801 (1.22 MB)\n",
      "Non-trainable params: 0 (0.00 Byte)\n",
      "_________________________________________________________________\n",
      "None\n"
     ]
    }
   ],
   "source": [
    "rnn = Sequential()\n",
    "\n",
    "rnn.add(Embedding(word_size,32,input_length =len(X_train[0]))) # num_words=10000)\n",
    "rnn.add(SimpleRNN(16,input_shape = (word_size,pad_length), return_sequences=False,activation=\"relu\"))\n",
    "rnn.add(Dense(1)) #flatten\n",
    "rnn.add(Activation(\"sigmoid\")) #using sigmoid for binary classification\n",
    "\n",
    "print(rnn.summary())\n",
    "rnn.compile(loss=\"binary_crossentropy\",optimizer=\"rmsprop\",metrics=[\"accuracy\"])"
   ]
  },
  {
   "cell_type": "code",
   "execution_count": 106,
   "id": "ff6b79b5",
   "metadata": {},
   "outputs": [
    {
     "name": "stdout",
     "output_type": "stream",
     "text": [
      "Epoch 1/10\n",
      "196/196 [==============================] - 5s 27ms/step - loss: 0.2764 - accuracy: 0.8912 - val_loss: 0.4209 - val_accuracy: 0.8217\n",
      "Epoch 2/10\n",
      "196/196 [==============================] - 5s 26ms/step - loss: 0.2530 - accuracy: 0.9000 - val_loss: 0.4244 - val_accuracy: 0.8238\n",
      "Epoch 3/10\n",
      "196/196 [==============================] - 5s 26ms/step - loss: 0.2339 - accuracy: 0.9091 - val_loss: 0.5666 - val_accuracy: 0.7700\n",
      "Epoch 4/10\n",
      "196/196 [==============================] - 5s 25ms/step - loss: 0.2167 - accuracy: 0.9167 - val_loss: 0.3817 - val_accuracy: 0.8460\n",
      "Epoch 5/10\n",
      "196/196 [==============================] - 5s 27ms/step - loss: 0.2042 - accuracy: 0.9231 - val_loss: 0.3896 - val_accuracy: 0.8486\n",
      "Epoch 6/10\n",
      "196/196 [==============================] - 5s 27ms/step - loss: 0.1857 - accuracy: 0.9299 - val_loss: 0.3846 - val_accuracy: 0.8449\n",
      "Epoch 7/10\n",
      "196/196 [==============================] - 5s 27ms/step - loss: 0.1752 - accuracy: 0.9337 - val_loss: 0.4547 - val_accuracy: 0.8484\n",
      "Epoch 8/10\n",
      "196/196 [==============================] - 5s 27ms/step - loss: 0.1616 - accuracy: 0.9399 - val_loss: 0.4581 - val_accuracy: 0.8476\n",
      "Epoch 9/10\n",
      "196/196 [==============================] - 5s 27ms/step - loss: 0.1520 - accuracy: 0.9446 - val_loss: 0.4205 - val_accuracy: 0.8380\n",
      "Epoch 10/10\n",
      "196/196 [==============================] - 5s 27ms/step - loss: 0.1377 - accuracy: 0.9499 - val_loss: 0.4236 - val_accuracy: 0.8458\n"
     ]
    }
   ],
   "source": [
    "#Run the training for 10 epochs.\n",
    "history = rnn.fit(X_train,Y_train,validation_data = (X_test,Y_test),epochs = 10,batch_size=128,verbose = 1)"
   ]
  },
  {
   "cell_type": "code",
   "execution_count": 107,
   "id": "ecee477e",
   "metadata": {},
   "outputs": [
    {
     "name": "stdout",
     "output_type": "stream",
     "text": [
      "782/782 [==============================] - 4s 5ms/step - loss: 0.4236 - accuracy: 0.8458\n"
     ]
    }
   ],
   "source": [
    "score = rnn.evaluate(X_test,Y_test)"
   ]
  },
  {
   "cell_type": "code",
   "execution_count": 108,
   "id": "72e04f91",
   "metadata": {},
   "outputs": [
    {
     "name": "stdout",
     "output_type": "stream",
     "text": [
      "accuracy: 84.58 \b%\n"
     ]
    }
   ],
   "source": [
    "print(\"accuracy:\", round(score[1]*100,2),\"\\b%\")"
   ]
  },
  {
   "cell_type": "code",
   "execution_count": 109,
   "id": "f30f3d38",
   "metadata": {},
   "outputs": [
    {
     "data": {
      "image/png": "[encoded data removed]",
      "text/plain": [
       "<Figure size 640x480 with 1 Axes>"
      ]
     },
     "metadata": {},
     "output_type": "display_data"
    }
   ],
   "source": [
    "plt.figure()\n",
    "plt.plot(history.history[\"accuracy\"],label=\"Train\");\n",
    "plt.plot(history.history[\"val_accuracy\"],label=\"Test\");\n",
    "plt.title(\"Accuracy\")\n",
    "plt.ylabel(\"Accuracy\")\n",
    "plt.xlabel(\"Epochs\")\n",
    "plt.legend()\n",
    "plt.show();"
   ]
  },
  {
   "cell_type": "code",
   "execution_count": 110,
   "id": "6a291e43",
   "metadata": {},
   "outputs": [
    {
     "data": {
      "image/png": "[encoded data removed]",
      "text/plain": [
       "<Figure size 640x480 with 1 Axes>"
      ]
     },
     "metadata": {},
     "output_type": "display_data"
    }
   ],
   "source": [
    "plt.figure()\n",
    "plt.plot(history.history[\"loss\"],label=\"Train\");\n",
    "plt.plot(history.history[\"val_loss\"],label=\"Test\");\n",
    "plt.title(\"Loss\")\n",
    "plt.ylabel(\"Loss\")\n",
    "plt.xlabel(\"Epochs\")\n",
    "plt.legend()\n",
    "plt.show();"
   ]
  },
  {
   "cell_type": "code",
   "execution_count": null,
   "id": "e8f7d6ac",
   "metadata": {},
   "outputs": [],
   "source": []
  },
  {
   "cell_type": "code",
   "execution_count": null,
   "id": "4bd6052d",
   "metadata": {},
   "outputs": [],
   "source": []
  },
  {
   "cell_type": "code",
   "execution_count": null,
   "id": "cdb81560",
   "metadata": {},
   "outputs": [],
   "source": []
  },
  {
   "cell_type": "code",
   "execution_count": null,
   "id": "2c7992b2",
   "metadata": {},
   "outputs": [],
   "source": []
  },
  {
   "cell_type": "code",
   "execution_count": null,
   "id": "b7d8ad61",
   "metadata": {},
   "outputs": [],
   "source": []
  },
  {
   "cell_type": "code",
   "execution_count": null,
   "id": "55756fec",
   "metadata": {},
   "outputs": [],
   "source": []
  },
  {
   "cell_type": "code",
   "execution_count": null,
   "id": "f3773aef",
   "metadata": {},
   "outputs": [],
   "source": []
  }
 ],
 "metadata": {
  "kernelspec": {
   "display_name": "Python 3 (ipykernel)",
   "language": "python",
   "name": "python3"
  },
  "language_info": {
   "codemirror_mode": {
    "name": "ipython",
    "version": 3
   },
   "file_extension": ".py",
   "mimetype": "text/x-python",
   "name": "python",
   "nbconvert_exporter": "python",
   "pygments_lexer": "ipython3",
   "version": "3.10.6"
  }
 },
 "nbformat": 4,
 "nbformat_minor": 5
}
